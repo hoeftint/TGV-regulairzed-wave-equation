{
 "cells": [
  {
   "cell_type": "code",
   "execution_count": 1,
   "metadata": {},
   "outputs": [],
   "source": [
    "from dolfinx import fem, mesh, plot, io, geometry\n",
    "from dolfinx.fem.petsc import LinearProblem\n",
    "from petsc4py.PETSc import ScalarType\n",
    "from mpi4py import MPI\n",
    "import numpy as np\n",
    "from ufl import ds, dx, grad, inner\n",
    "import ufl\n",
    "import matplotlib as mpl\n",
    "import pyvista\n",
    "from typing import List, Tuple\n",
    "import sys\n",
    "import os\n",
    "\n",
    "# Get the absolute path to the src directory\n",
    "src_path = os.path.abspath('..')\n",
    "if src_path not in sys.path:\n",
    "    sys.path.append(src_path)\n",
    "from src.visualization import timeDependentVariableToGif, plot_array, plot_function\n",
    "from src.solveStateEquation import solveStateEquation, getSourceTerm, buildControlFunction\n",
    "from src.solveAdjointEquation import solveAdjointEquation\n",
    "from src.solveFinDimObjective import solveFinDimProblem\n",
    "from src.tools import getValueOfFunction, buildIterationFunction\n",
    "from src.ExtremalPoints import ExtremalPoint\n",
    "from src.HesseMatrix import calculateL2InnerProduct, HesseMatrix\n",
    "from src.semiSmoothNewtonSolver import computeSemiNewtonStep\n",
    "from dataclasses import dataclass\n",
    "\n",
    "@dataclass\n",
    "class Parameters:\n",
    "    T = 1\n",
    "    dt = 0.01\n",
    "    x1 = (0.5, 0.5)\n",
    "    x2 = (-0.5, -0.5)\n",
    "    area = 4\n",
    "    d = 2\n",
    "    mollify_const = 0.01\n",
    "    newton_c = 1\n",
    "    alpha = 2.2\n",
    "    beta = 2.4\n",
    "    waveSpeed = 1\n",
    "    randomFactor = 0.05\n",
    "    solverIteration = 0\n",
    "    yd = []\n",
    "    msh = mesh.create_rectangle(\n",
    "        comm=MPI.COMM_WORLD,\n",
    "        points=((-1., -1.), (1.0, 1.0)),\n",
    "        n=(32, 32),\n",
    "        cell_type=mesh.CellType.triangle,\n",
    "    )\n",
    "    V = fem.functionspace(msh, (\"Lagrange\", 1))\n",
    "    \n",
    "params = Parameters()"
   ]
  },
  {
   "cell_type": "markdown",
   "metadata": {},
   "source": [
    "Test: Evaluation of `fem.Function` with `src.tools.getValueOfFunction()`"
   ]
  },
  {
   "cell_type": "code",
   "execution_count": 2,
   "metadata": {},
   "outputs": [
    {
     "name": "stdout",
     "output_type": "stream",
     "text": [
      "(1, 1)  Real value:  0.9092974268256817  Value from discrete grid:  [0.90929743]\n"
     ]
    }
   ],
   "source": [
    "test_function = lambda x: np.sin(x[0] + x[1])\n",
    "obj = fem.Function(params.V)\n",
    "obj.interpolate(test_function)\n",
    "testPoint = (1, 1)\n",
    "pointList = [testPoint]\n",
    "print(testPoint, ' Real value: ', test_function(testPoint), ' Value from discrete grid: ', \n",
    "      getValueOfFunction(params.V, obj, pointList))"
   ]
  },
  {
   "cell_type": "markdown",
   "metadata": {},
   "source": [
    "Hesse matrix"
   ]
  },
  {
   "cell_type": "code",
   "execution_count": 3,
   "metadata": {},
   "outputs": [
    {
     "name": "stdout",
     "output_type": "stream",
     "text": [
      "Only standard states:  [[0.0178966  0.0178966  0.06189623 0.06189623]\n",
      " [0.0178966  0.0178966  0.06189623 0.06189623]\n",
      " [0.06189623 0.06189623 0.22036867 0.22036867]\n",
      " [0.06189623 0.06189623 0.22036867 0.22036867]]\n",
      "Appending one state:  [[0.01527211 0.0165137  0.0165137  0.05744897 0.05744897]\n",
      " [0.0165137  0.0178966  0.0178966  0.06189623 0.06189623]\n",
      " [0.0165137  0.0178966  0.0178966  0.06189623 0.06189623]\n",
      " [0.05744897 0.06189623 0.06189623 0.22036867 0.22036867]\n",
      " [0.05744897 0.06189623 0.06189623 0.22036867 0.22036867]]\n",
      "Appending two states:  [[1.52721104e-02 6.01011402e-04 1.65136996e-02 1.65136996e-02\n",
      "  5.74489702e-02 5.74489702e-02]\n",
      " [6.01011402e-04 2.84724270e-05 6.63194422e-04 6.63194422e-04\n",
      "  2.15416688e-03 2.15416688e-03]\n",
      " [1.65136996e-02 6.63194422e-04 1.78966022e-02 1.78966022e-02\n",
      "  6.18962340e-02 6.18962340e-02]\n",
      " [1.65136996e-02 6.63194422e-04 1.78966022e-02 1.78966022e-02\n",
      "  6.18962340e-02 6.18962340e-02]\n",
      " [5.74489702e-02 2.15416688e-03 6.18962340e-02 6.18962340e-02\n",
      "  2.20368668e-01 2.20368668e-01]\n",
      " [5.74489702e-02 2.15416688e-03 6.18962340e-02 6.18962340e-02\n",
      "  2.20368668e-01 2.20368668e-01]]\n",
      "Removing one state:  [[2.84724270e-05 6.63194422e-04 2.84724270e-05 6.63194422e-04\n",
      "  2.15416688e-03 2.15416688e-03]\n",
      " [6.63194422e-04 1.78966022e-02 2.84724270e-05 1.78966022e-02\n",
      "  6.18962340e-02 6.18962340e-02]\n",
      " [2.84724270e-05 2.84724270e-05 6.63194422e-04 6.63194422e-04\n",
      "  2.15416688e-03 2.15416688e-03]\n",
      " [6.63194422e-04 1.78966022e-02 6.63194422e-04 1.78966022e-02\n",
      "  6.18962340e-02 6.18962340e-02]\n",
      " [2.15416688e-03 6.18962340e-02 2.15416688e-03 6.18962340e-02\n",
      "  2.20368668e-01 2.20368668e-01]\n",
      " [2.15416688e-03 6.18962340e-02 2.15416688e-03 6.18962340e-02\n",
      "  2.20368668e-01 2.20368668e-01]]\n",
      "Hesse is symmetric:  True\n"
     ]
    }
   ],
   "source": [
    "point1 = ExtremalPoint(np.array([1, 0]), 0.2, 0, params)\n",
    "active_set = [point1]\n",
    "hesse = HesseMatrix([], params)\n",
    "print('Only standard states: ', hesse.matrix)\n",
    "hesse.update(active_set)\n",
    "print('Appending one state: ', hesse.matrix)\n",
    "point2 = ExtremalPoint(np.array([1, 0]), 0.5, 1, params)\n",
    "active_set.append(point2)\n",
    "hesse.update(active_set)\n",
    "print('Appending two states: ', hesse.matrix)\n",
    "active_set.pop(0)\n",
    "point3 = ExtremalPoint(np.array([1, 0]), 0.6, 1, params)\n",
    "active_set.append(point2)\n",
    "hesse.update(active_set)\n",
    "print('Removing one state: ', hesse.matrix)\n",
    "print('Hesse is symmetric: ', np.allclose(hesse.matrix, hesse.matrix.T, rtol=1e-5, atol=1e-8))"
   ]
  },
  {
   "cell_type": "markdown",
   "metadata": {},
   "source": [
    "Adjoint equation: The vectors $P_k$ and $p_k$ should have zero boundary values"
   ]
  },
  {
   "cell_type": "code",
   "execution_count": 4,
   "metadata": {},
   "outputs": [],
   "source": [
    "\n",
    "s1 = lambda t : 0.05 if t <= 0.25 else (0.65 if t <= 0.5 else (0.15 if t <= 0.75 else 0.35))\n",
    "s2 = lambda t : 0.775 if t <= 0.25 else (-0.025 if t <= 0.5 else (0.975 if t <= 0.75 else 0.275))\n",
    "\n",
    "g1 = getSourceTerm(params.x1, params)\n",
    "g2 = getSourceTerm(params.x2, params)\n",
    "\n",
    "control = buildControlFunction([g1, g2], [s1, s2], params)\n",
    "yd = solveStateEquation(control, params)\n",
    "\n",
    "u0 = ExtremalPoint(np.array([1., 0]), 0.5, type=0, params=params, idx=2)\n",
    "active_set = [u0]\n",
    "hesse = HesseMatrix(active_set, params)\n",
    "weights = np.ones(len(active_set))\n",
    "slope = np.zeros((params.d,))\n",
    "y_shift = np.zeros((params.d,))\n",
    "\n",
    "weights, slope, y_shift = computeSemiNewtonStep(weights, slope, y_shift, active_set, hesse, params)\n",
    "print(weights, slope, y_shift)"
   ]
  }
 ],
 "metadata": {
  "kernelspec": {
   "display_name": "fenicsx-env",
   "language": "python",
   "name": "python3"
  },
  "language_info": {
   "codemirror_mode": {
    "name": "ipython",
    "version": 3
   },
   "file_extension": ".py",
   "mimetype": "text/x-python",
   "name": "python",
   "nbconvert_exporter": "python",
   "pygments_lexer": "ipython3",
   "version": "3.12.2"
  }
 },
 "nbformat": 4,
 "nbformat_minor": 2
}
