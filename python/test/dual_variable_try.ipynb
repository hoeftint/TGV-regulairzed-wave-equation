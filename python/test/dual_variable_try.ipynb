{
 "cells": [
  {
   "cell_type": "code",
   "execution_count": null,
   "metadata": {},
   "outputs": [],
   "source": [
    "s1 = lambda t : 0.05 if t <= 0.25 else (0.65 if t <= 0.5 else (0.15 if t <= 0.75 else 0.35))\n",
    "s2 = lambda t : 0.775 if t <= 0.25 else (-0.025 if t <= 0.5 else (0.975 if t <= 0.75 else 0.275))\n",
    "\n",
    "g1 = getSourceTerm(params.x1, params)\n",
    "g2 = getSourceTerm(params.x2, params)\n",
    "\n",
    "K_u, u = solveStateEquation([g1, g2], [s1, s2], params)\n",
    "grid_size = K_u[0].x.array.shape\n",
    "\n",
    "# Creating the measured state\n",
    "raw_matrices = [K_u_t.x.array for K_u_t in K_u]\n",
    "norms = [np.linalg.norm(matrix, ord=2) for matrix in raw_matrices]\n",
    "scale = params.randomFactor * np.mean(norms) / grid_size[0] * params.area\n",
    "np.random.seed(42)\n",
    "yd = [fem.Function(params.V) for _ in K_u]\n",
    "for idx in range(len(yd)):\n",
    "    yd[idx].x.array[:] = K_u[idx].x.array + np.random.normal(loc=0.0, scale=scale, size=grid_size)\n",
    "params.yd = yd\n",
    "phi = [fem.Function(params.V) for _ in K_u]\n",
    "for idx in range(len(phi)):\n",
    "    phi[idx].x.array[:] = 0 * K_u[idx].x.array - yd[idx].x.array\n",
    "    \n",
    "adjointState = solveAdjointEquation(phi, params)\n",
    "#timeDependentVariableToGif(params.yd, filename=\"observation_state.gif\", varname=\"state\", slowMoFactor=2, T=params.T)\n",
    "#timeDependentVariableToGif(yd, filename=\"adjoint.gif\", varname=\"adjoint\", slowMoFactor=2, T=T)\n",
    "\n",
    "adjointValues = np.ndarray((len(adjointState), params.d), dtype=np.float64)\n",
    "for idx, func in enumerate(adjointState):\n",
    "    adjointValues[idx] = getValueOfFunction(params.V, func, [params.x1, params.x2])[:, 0]\n",
    "\n",
    "first_dual = np.zeros((len(adjointState), params.d), dtype=np.float64)\n",
    "first_dual[0] = adjointValues[0]\n",
    "for idx in range(1, len(adjointState)):\n",
    "    first_dual[idx] = first_dual[idx - 1] + adjointValues[idx]\n",
    "first_dual /= (len(adjointState) - 1)\n",
    "\n",
    "second_dual = np.zeros((len(adjointState), params.d), dtype=np.float64)\n",
    "second_dual[0] = first_dual[0]\n",
    "for idx in range(1, len(adjointState)):\n",
    "    second_dual[idx] = second_dual[idx - 1] + first_dual[idx]\n",
    "second_dual /= (len(adjointState) - 1)\n",
    "\n",
    "plot_array(first_dual, params.T)\n",
    "plot_array(second_dual, params.T)\n",
    "\n",
    "idx_xS = np.argmax(np.linalg.norm(first_dual, axis=1))\n",
    "idx_xK = np.argmax(np.linalg.norm(second_dual, axis=1))\n",
    "\n",
    "sigma_xS = first_dual[idx_xS] / np.linalg.norm(first_dual[idx_xS])\n",
    "sigma_xK = second_dual[idx_xK] / np.linalg.norm(second_dual[idx_xK])"
   ]
  }
 ],
 "metadata": {
  "language_info": {
   "name": "python"
  }
 },
 "nbformat": 4,
 "nbformat_minor": 2
}
