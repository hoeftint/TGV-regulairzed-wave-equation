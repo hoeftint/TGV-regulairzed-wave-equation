{
 "cells": [
  {
   "cell_type": "code",
   "execution_count": 1,
   "metadata": {},
   "outputs": [
    {
     "name": "stdout",
     "output_type": "stream",
     "text": [
      "['/mnt/c/Users/Thomas/repos/TGV-regularized-wave/python/test', '/home/thomas/miniconda3/envs/fenicsx-env/lib/python312.zip', '/home/thomas/miniconda3/envs/fenicsx-env/lib/python3.12', '/home/thomas/miniconda3/envs/fenicsx-env/lib/python3.12/lib-dynload', '', '/home/thomas/miniconda3/envs/fenicsx-env/lib/python3.12/site-packages']\n"
     ]
    }
   ],
   "source": [
    "from dolfinx import fem, mesh, plot, io, geometry\n",
    "from dolfinx.fem.petsc import LinearProblem\n",
    "from petsc4py.PETSc import ScalarType\n",
    "from mpi4py import MPI\n",
    "import numpy as np\n",
    "from ufl import ds, dx, grad, inner\n",
    "import ufl\n",
    "import matplotlib as mpl\n",
    "import pyvista\n",
    "\n",
    "import sys\n",
    "import os\n",
    "# Get the absolute path to the src directory\n",
    "src_path = os.path.abspath('..')\n",
    "if src_path not in sys.path:\n",
    "    sys.path.append(src_path)\n",
    "\n",
    "from typing import List, Tuple\n",
    "from src.visualization import timeDependentVariableToGif, plot_array, plot_function\n",
    "from src.solveStateEquation import solveStateEquation, getSourceTerm\n",
    "from src.solveAdjointEquation import solveAdjointEquation\n",
    "from src.solveFinDimObjective import solveFinDimProblem\n",
    "from src.tools import getValueOfFunction, buildIterationFunction\n",
    "from src.ExtremalPoints import ExtremalPoint\n",
    "from src.HesseMatrix import calculateL2InnerProduct, HesseMatrix\n",
    "from src.semiSmoothNewtonSolver import computeSemiNewtonStep\n",
    "from dataclasses import dataclass\n",
    "\n",
    "@dataclass\n",
    "class Parameters:\n",
    "    T = 1\n",
    "    dt = 0.01\n",
    "    x1 = (0.5, 0.5)\n",
    "    x2 = (-0.5, -0.5)\n",
    "    area = 4\n",
    "    d = 2\n",
    "    mollify_const = 0.01\n",
    "    newton_c = 1\n",
    "    eta = 0.01\n",
    "    alpha = 2.2\n",
    "    beta = 2.4\n",
    "    waveSpeed = 1\n",
    "    randomFactor = 0.05\n",
    "    solverIteration = 0\n",
    "    yd = []\n",
    "    msh = mesh.create_rectangle(\n",
    "        comm=MPI.COMM_WORLD,\n",
    "        points=((-1., -1.), (1.0, 1.0)),\n",
    "        n=(32, 32),\n",
    "        cell_type=mesh.CellType.triangle,\n",
    "    )\n",
    "    V = fem.functionspace(msh, (\"Lagrange\", 1))"
   ]
  },
  {
   "cell_type": "markdown",
   "metadata": {},
   "source": [
    "# Test linearity property of solver"
   ]
  },
  {
   "cell_type": "code",
   "execution_count": 12,
   "metadata": {},
   "outputs": [
    {
     "name": "stdout",
     "output_type": "stream",
     "text": [
      "Maximal difference in addition:  4.9404924595819466e-15\n"
     ]
    }
   ],
   "source": [
    "# Test stability of solver for under addition\n",
    "params = Parameters()\n",
    "\n",
    "ext1 = ExtremalPoint(np.array([1.0, 0]), 0.5, type=0, params=params, idx=int(0.5/params.dt))\n",
    "ext2 = ExtremalPoint(np.array([1.0, 0]), 0.2, type=1, params=params, idx=int(0.7/params.dt))\n",
    "g1 = getSourceTerm(params.x1, params)\n",
    "g2 = getSourceTerm(params.x2, params)\n",
    "factor = 2\n",
    "\n",
    "active_set = []\n",
    "active_set.append(ext1)\n",
    "weights = np.ones(len(active_set))\n",
    "slope = np.ones((params.d,))\n",
    "y_shift = np.ones((params.d,))\n",
    "u_1 = lambda t: buildIterationFunction(t, active_set, weights, slope, y_shift, params)[0]\n",
    "u_2 = lambda t: buildIterationFunction(t, active_set, weights, slope, y_shift, params)[1]\n",
    "K_u1, control_u1 = solveStateEquation([g1, g2], [u_1, u_2], params)\n",
    "\n",
    "active_set = []\n",
    "active_set.append(ext2)\n",
    "weights = factor * np.ones(len(active_set))\n",
    "slope = np.ones((params.d,))\n",
    "y_shift = np.ones((params.d,))\n",
    "u_1 = lambda t: buildIterationFunction(t, active_set, weights, slope, y_shift, params)[0]\n",
    "u_2 = lambda t: buildIterationFunction(t, active_set, weights, slope, y_shift, params)[1]\n",
    "K_u2, control_u2 = solveStateEquation([g1, g2], [u_1, u_2], params)\n",
    "\n",
    "active_set = []\n",
    "active_set.append(ext1)\n",
    "active_set.append(ext2)\n",
    "weights = np.ones(len(active_set))\n",
    "weights[1] = factor\n",
    "slope = 2 * np.ones((params.d,))\n",
    "y_shift = 2 * np.ones((params.d,))\n",
    "u_1 = lambda t: buildIterationFunction(t, active_set, weights, slope, y_shift, params)[0]\n",
    "u_2 = lambda t: buildIterationFunction(t, active_set, weights, slope, y_shift, params)[1]\n",
    "K_u_sum, control_u_sum = solveStateEquation([g1, g2], [u_1, u_2], params)\n",
    "\n",
    "sum = []\n",
    "max_diff = np.zeros(len(K_u1))\n",
    "for idx in range(len(K_u1)):\n",
    "    func = fem.Function(params.V)\n",
    "    func.x.array[:] = K_u1[idx].x.array + K_u2[idx].x.array\n",
    "    sum.append(func)\n",
    "    max_diff[idx] = np.max(np.abs(func.x.array - K_u_sum[idx].x.array))\n",
    "print('Maximal difference in addition: ', np.max(max_diff))"
   ]
  },
  {
   "cell_type": "markdown",
   "metadata": {},
   "source": [
    "# Test linearity of adjoint solver"
   ]
  },
  {
   "cell_type": "code",
   "execution_count": 13,
   "metadata": {},
   "outputs": [
    {
     "name": "stdout",
     "output_type": "stream",
     "text": [
      "Maximal difference in addition:  9.853229343548264e-16\n"
     ]
    }
   ],
   "source": [
    "ext1 = ExtremalPoint(np.array([1.0, 0]), 0.5, type=0, params=params, idx=int(0.5/params.dt))\n",
    "ext2 = ExtremalPoint(np.array([1.0, 0]), 0.2, type=1, params=params, idx=int(0.7/params.dt))\n",
    "g1 = getSourceTerm(params.x1, params)\n",
    "g2 = getSourceTerm(params.x2, params)\n",
    "factor = 2\n",
    "\n",
    "active_set = []\n",
    "active_set.append(ext1)\n",
    "weights = np.ones(len(active_set))\n",
    "slope = np.ones((params.d,))\n",
    "y_shift = np.ones((params.d,))\n",
    "u_1 = lambda t: buildIterationFunction(t, active_set, weights, slope, y_shift, params)[0]\n",
    "u_2 = lambda t: buildIterationFunction(t, active_set, weights, slope, y_shift, params)[1]\n",
    "K_u1, control_u1 = solveStateEquation([g1, g2], [u_1, u_2], params)\n",
    "\n",
    "active_set = []\n",
    "active_set.append(ext2)\n",
    "weights = factor * np.ones(len(active_set))\n",
    "slope = np.ones((params.d,))\n",
    "y_shift = np.ones((params.d,))\n",
    "u_1 = lambda t: buildIterationFunction(t, active_set, weights, slope, y_shift, params)[0]\n",
    "u_2 = lambda t: buildIterationFunction(t, active_set, weights, slope, y_shift, params)[1]\n",
    "K_u2, control_u2 = solveStateEquation([g1, g2], [u_1, u_2], params)\n",
    "\n",
    "active_set = []\n",
    "active_set.append(ext1)\n",
    "active_set.append(ext2)\n",
    "weights = np.ones(len(active_set))\n",
    "weights[1] = factor\n",
    "slope = 2 * np.ones((params.d,))\n",
    "y_shift = 2 * np.ones((params.d,))\n",
    "u_1 = lambda t: buildIterationFunction(t, active_set, weights, slope, y_shift, params)[0]\n",
    "u_2 = lambda t: buildIterationFunction(t, active_set, weights, slope, y_shift, params)[1]\n",
    "K_u_sum, control_u_sum = solveStateEquation([g1, g2], [u_1, u_2], params)\n",
    "\n",
    "K_u_sum_adjoint = solveAdjointEquation(K_u_sum, params)\n",
    "K_u_1_adjoint = solveAdjointEquation(K_u1, params)\n",
    "K_u_2_adjoint = solveAdjointEquation(K_u2, params)\n",
    "\n",
    "sum = []\n",
    "max_diff = np.zeros(len(K_u1))\n",
    "for idx in range(len(K_u1)):\n",
    "    func = fem.Function(params.V)\n",
    "    func.x.array[:] = K_u_1_adjoint[idx].x.array + K_u_2_adjoint[idx].x.array\n",
    "    sum.append(func)\n",
    "    max_diff[idx] = np.max(np.abs(func.x.array - K_u_sum_adjoint[idx].x.array))\n",
    "print('Maximal difference in addition: ', np.max(max_diff))"
   ]
  }
 ],
 "metadata": {
  "kernelspec": {
   "display_name": "fenicsx-env",
   "language": "python",
   "name": "python3"
  },
  "language_info": {
   "codemirror_mode": {
    "name": "ipython",
    "version": 3
   },
   "file_extension": ".py",
   "mimetype": "text/x-python",
   "name": "python",
   "nbconvert_exporter": "python",
   "pygments_lexer": "ipython3",
   "version": "3.1.-1"
  }
 },
 "nbformat": 4,
 "nbformat_minor": 2
}
